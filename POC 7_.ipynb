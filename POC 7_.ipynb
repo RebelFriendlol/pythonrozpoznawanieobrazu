{
 "cells": [
  {
   "cell_type": "code",
   "execution_count": null,
   "metadata": {},
   "outputs": [],
   "source": [
    "import cv2\n",
    "import numpy as np\n",
    "import matplotlib.pyplot as plt\n",
    "\n",
    "\n",
    "image = cv2.imread('scheme001.png')\n",
    "\n",
    "\n",
    "-> gray = \n",
    "plt.figure(figsize=(10, 10))\n",
    "plt.title('Skala szarości')\n",
    "plt.imshow(gray, cmap='gray')\n",
    "plt.axis('off')\n",
    "plt.show()"
   ]
  },
  {
   "cell_type": "code",
   "execution_count": null,
   "metadata": {},
   "outputs": [],
   "source": [
    "\n",
    "-> filtered = \n",
    "plt.figure(figsize=(10, 10))\n",
    "plt.title('Wygładzony obraz')\n",
    "plt.imshow(filtered, cmap='gray')\n",
    "plt.axis('off')\n",
    "plt.show()"
   ]
  },
  {
   "cell_type": "code",
   "execution_count": null,
   "metadata": {},
   "outputs": [],
   "source": [
    "\n",
    "-> binary = \n",
    "plt.figure(figsize=(10, 10))\n",
    "plt.title('Binaryzacja')\n",
    "plt.imshow(binary, cmap='gray')\n",
    "plt.axis('off')\n",
    "plt.show()"
   ]
  },
  {
   "cell_type": "code",
   "execution_count": null,
   "metadata": {},
   "outputs": [],
   "source": [
    "\n",
    "contours, _ = cv2.findContours(binary, cv2.RETR_TREE, cv2.CHAIN_APPROX_SIMPLE)\n",
    "contour_image = np.copy(image)\n",
    "cv2.drawContours(contour_image, contours, -1, (0, 255, 0), 2)\n",
    "plt.figure(figsize=(10, 10))\n",
    "plt.title('Kontury')\n",
    "plt.imshow(cv2.cvtColor(contour_image, cv2.COLOR_BGR2RGB))\n",
    "plt.axis('off')\n",
    "plt.show()\n",
    "\n"
   ]
  },
  {
   "cell_type": "code",
   "execution_count": null,
   "metadata": {},
   "outputs": [],
   "source": [
    "\n",
    "approx_image = np.copy(image)\n",
    "for contour in contours:\n",
    "    epsilon = 0.01 * cv2.arcLength(contour, True) \n",
    "    approx = cv2.approxPolyDP(contour, epsilon, True)\n",
    "    \n",
    " \n",
    "    vertices = len(approx)\n",
    "    shape = \"Nieznany\"\n",
    "    \n",
    "->\n",
    "    \n",
    "    \n",
    "->\n",
    "\n",
    "plt.figure(figsize=(10, 10))\n",
    "plt.title('Aproksymacja konturów i identyfikacja kształtów')\n",
    "plt.imshow(cv2.cvtColor(approx_image, cv2.COLOR_BGR2RGB))\n",
    "plt.axis('off')\n",
    "plt.show()"
   ]
  }
 ],
 "metadata": {
  "kernelspec": {
   "display_name": "POC",
   "language": "python",
   "name": "python3"
  },
  "language_info": {
   "codemirror_mode": {
    "name": "ipython",
    "version": 3
   },
   "file_extension": ".py",
   "mimetype": "text/x-python",
   "name": "python",
   "nbconvert_exporter": "python",
   "pygments_lexer": "ipython3",
   "version": "3.12.4"
  }
 },
 "nbformat": 4,
 "nbformat_minor": 2
}
